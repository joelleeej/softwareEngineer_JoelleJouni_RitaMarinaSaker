{
 "cells": [
  {
   "cell_type": "code",
   "execution_count": null,
   "id": "cd79450c",
   "metadata": {
    "_cell_guid": "b1076dfc-b9ad-4769-8c92-a6c4dae69d19",
    "_uuid": "8f2839f25d086af736a60e9eeb907d3b93b6e0e5",
    "execution": {
     "iopub.execute_input": "2024-10-21T09:33:40.496168Z",
     "iopub.status.busy": "2024-10-21T09:33:40.495025Z",
     "iopub.status.idle": "2024-10-21T09:33:41.567704Z",
     "shell.execute_reply": "2024-10-21T09:33:41.566456Z"
    },
    "papermill": {
     "duration": 1.086826,
     "end_time": "2024-10-21T09:33:41.570616",
     "exception": false,
     "start_time": "2024-10-21T09:33:40.483790",
     "status": "completed"
    },
    "tags": []
   },
   "outputs": [
    {
     "name": "stdout",
     "output_type": "stream",
     "text": [
      "/kaggle/input/twitter-entity-sentiment-analysis/twitter_validation.csv\n",
      "/kaggle/input/twitter-entity-sentiment-analysis/twitter_training.csv\n"
     ]
    }
   ],
   "source": [
    "\n",
    "import numpy as np \n",
    "import pandas as pd \n",
    "\n",
    "import os\n",
    "for dirname, _, filenames in os.walk('/kaggle/input'):\n",
    "    for filename in filenames:\n",
    "        print(os.path.join(dirname, filename))\n",
    "\n"
   ]
  },
  {
   "cell_type": "code",
   "execution_count": null,
   "id": "cd9ecc31",
   "metadata": {
    "papermill": {
     "duration": 0.008761,
     "end_time": "2024-10-21T09:33:41.590032",
     "exception": false,
     "start_time": "2024-10-21T09:33:41.581271",
     "status": "completed"
    },
    "tags": []
   },
   "outputs": [],
   "source": []
  },
  {
   "cell_type": "markdown",
   "id": "0bac8210",
   "metadata": {
    "papermill": {
     "duration": 0.008588,
     "end_time": "2024-10-21T09:33:41.608035",
     "exception": false,
     "start_time": "2024-10-21T09:33:41.599447",
     "status": "completed"
    },
    "tags": []
   },
   "source": [
    "Sentiment Analysis on Twitter Data: Developed a machine learning model to classify tweets into sentiment categories (Positive, Negative, Neutral, Irrelevant) using techniques such as TF-IDF vectorization and logistic regression."
   ]
  },
  {
   "cell_type": "code",
   "execution_count": 2,
   "id": "74255875",
   "metadata": {
    "execution": {
     "iopub.execute_input": "2024-10-21T09:33:41.628161Z",
     "iopub.status.busy": "2024-10-21T09:33:41.627542Z",
     "iopub.status.idle": "2024-10-21T09:33:43.512801Z",
     "shell.execute_reply": "2024-10-21T09:33:43.511726Z"
    },
    "papermill": {
     "duration": 1.898879,
     "end_time": "2024-10-21T09:33:43.515630",
     "exception": false,
     "start_time": "2024-10-21T09:33:41.616751",
     "status": "completed"
    },
    "tags": []
   },
   "outputs": [],
   "source": [
    "import pandas as pd\n",
    "import numpy as np\n",
    "from sklearn.model_selection import train_test_split\n",
    "from sklearn.metrics import accuracy_score\n",
    "from sklearn.linear_model import LogisticRegression\n",
    "from sklearn.preprocessing import StandardScaler\n",
    "from sklearn.pipeline import make_pipeline\n",
    "from sklearn.feature_extraction.text import TfidfVectorizer\n",
    "from sklearn.model_selection import train_test_split\n",
    "from sklearn.metrics import classification_report\n"
   ]
  },
  {
   "cell_type": "code",
   "execution_count": null,
   "id": "1408ae85",
   "metadata": {
    "execution": {
     "iopub.execute_input": "2024-10-21T09:33:43.536013Z",
     "iopub.status.busy": "2024-10-21T09:33:43.534660Z",
     "iopub.status.idle": "2024-10-21T09:33:44.054407Z",
     "shell.execute_reply": "2024-10-21T09:33:44.053205Z"
    },
    "papermill": {
     "duration": 0.532611,
     "end_time": "2024-10-21T09:33:44.057221",
     "exception": false,
     "start_time": "2024-10-21T09:33:43.524610",
     "status": "completed"
    },
    "tags": []
   },
   "outputs": [
    {
     "name": "stdout",
     "output_type": "stream",
     "text": [
      "   2401  Borderlands  Positive  \\\n",
      "0  2401  Borderlands  Positive   \n",
      "1  2401  Borderlands  Positive   \n",
      "2  2401  Borderlands  Positive   \n",
      "3  2401  Borderlands  Positive   \n",
      "4  2401  Borderlands  Positive   \n",
      "5  2402  Borderlands  Positive   \n",
      "6  2402  Borderlands  Positive   \n",
      "7  2402  Borderlands  Positive   \n",
      "8  2402  Borderlands  Positive   \n",
      "9  2402  Borderlands  Positive   \n",
      "\n",
      "  im getting on borderlands and i will murder you all ,  \n",
      "0  I am coming to the borders and I will kill you...     \n",
      "1  im getting on borderlands and i will kill you ...     \n",
      "2  im coming on borderlands and i will murder you...     \n",
      "3  im getting on borderlands 2 and i will murder ...     \n",
      "4  im getting into borderlands and i can murder y...     \n",
      "5  So I spent a few hours making something for fu...     \n",
      "6  So I spent a couple of hours doing something f...     \n",
      "7  So I spent a few hours doing something for fun...     \n",
      "8  So I spent a few hours making something for fu...     \n",
      "9  2010 So I spent a few hours making something f...     \n"
     ]
    }
   ],
   "source": [
    "# Load the training dataset\n",
    "train_df = pd.read_csv('twitter_training.csv')\n",
    "\n",
    "# Load the validation dataset\n",
    "val_df = pd.read_csv('twitter_validation.csv')\n",
    "\n",
    "# Display the first few rows of the training dataset\n",
    "print(train_df.head(10))"
   ]
  },
  {
   "cell_type": "code",
   "execution_count": 4,
   "id": "f5286b55",
   "metadata": {
    "execution": {
     "iopub.execute_input": "2024-10-21T09:33:44.078172Z",
     "iopub.status.busy": "2024-10-21T09:33:44.077771Z",
     "iopub.status.idle": "2024-10-21T09:33:44.152668Z",
     "shell.execute_reply": "2024-10-21T09:33:44.151416Z"
    },
    "papermill": {
     "duration": 0.08893,
     "end_time": "2024-10-21T09:33:44.155348",
     "exception": false,
     "start_time": "2024-10-21T09:33:44.066418",
     "status": "completed"
    },
    "tags": []
   },
   "outputs": [
    {
     "name": "stdout",
     "output_type": "stream",
     "text": [
      "(74681, 4)\n",
      "<class 'pandas.core.frame.DataFrame'>\n",
      "RangeIndex: 74681 entries, 0 to 74680\n",
      "Data columns (total 4 columns):\n",
      " #   Column                                                 Non-Null Count  Dtype \n",
      "---  ------                                                 --------------  ----- \n",
      " 0   2401                                                   74681 non-null  int64 \n",
      " 1   Borderlands                                            74681 non-null  object\n",
      " 2   Positive                                               74681 non-null  object\n",
      " 3   im getting on borderlands and i will murder you all ,  73995 non-null  object\n",
      "dtypes: int64(1), object(3)\n",
      "memory usage: 2.3+ MB\n",
      "None\n",
      "               2401\n",
      "count  74681.000000\n",
      "mean    6432.640149\n",
      "std     3740.423819\n",
      "min        1.000000\n",
      "25%     3195.000000\n",
      "50%     6422.000000\n",
      "75%     9601.000000\n",
      "max    13200.000000\n"
     ]
    }
   ],
   "source": [
    "print(train_df.shape)  # Number of rows and columns\n",
    "print(train_df.info())  # Information about the dataset\n",
    "print(train_df.describe())  # Basic statistics"
   ]
  },
  {
   "cell_type": "code",
   "execution_count": 5,
   "id": "982f0e7c",
   "metadata": {
    "execution": {
     "iopub.execute_input": "2024-10-21T09:33:44.175665Z",
     "iopub.status.busy": "2024-10-21T09:33:44.174621Z",
     "iopub.status.idle": "2024-10-21T09:33:44.188223Z",
     "shell.execute_reply": "2024-10-21T09:33:44.186923Z"
    },
    "papermill": {
     "duration": 0.026333,
     "end_time": "2024-10-21T09:33:44.190804",
     "exception": false,
     "start_time": "2024-10-21T09:33:44.164471",
     "status": "completed"
    },
    "tags": []
   },
   "outputs": [
    {
     "name": "stdout",
     "output_type": "stream",
     "text": [
      "                 ID\n",
      "count  74681.000000\n",
      "mean    6432.640149\n",
      "std     3740.423819\n",
      "min        1.000000\n",
      "25%     3195.000000\n",
      "50%     6422.000000\n",
      "75%     9601.000000\n",
      "max    13200.000000\n"
     ]
    }
   ],
   "source": [
    "train_df.columns = ['ID', 'Entity', 'Sentiment', 'Text']\n",
    "print(train_df.describe())"
   ]
  },
  {
   "cell_type": "code",
   "execution_count": 6,
   "id": "6edcb30a",
   "metadata": {
    "execution": {
     "iopub.execute_input": "2024-10-21T09:33:44.210525Z",
     "iopub.status.busy": "2024-10-21T09:33:44.210110Z",
     "iopub.status.idle": "2024-10-21T09:33:44.253547Z",
     "shell.execute_reply": "2024-10-21T09:33:44.252191Z"
    },
    "papermill": {
     "duration": 0.056382,
     "end_time": "2024-10-21T09:33:44.256244",
     "exception": false,
     "start_time": "2024-10-21T09:33:44.199862",
     "status": "completed"
    },
    "tags": []
   },
   "outputs": [
    {
     "name": "stdout",
     "output_type": "stream",
     "text": [
      "Sentiment\n",
      "Negative      22358\n",
      "Positive      20654\n",
      "Neutral       18108\n",
      "Irrelevant    12875\n",
      "Name: count, dtype: int64\n"
     ]
    }
   ],
   "source": [
    "# Remove rows with missing text\n",
    "train_df = train_df.dropna(subset=['Text'])\n",
    "sentiment_counts = train_df['Sentiment'].value_counts()\n",
    "print(sentiment_counts)\n"
   ]
  },
  {
   "cell_type": "code",
   "execution_count": 7,
   "id": "18446d08",
   "metadata": {
    "execution": {
     "iopub.execute_input": "2024-10-21T09:33:44.276350Z",
     "iopub.status.busy": "2024-10-21T09:33:44.275926Z",
     "iopub.status.idle": "2024-10-21T09:33:44.617772Z",
     "shell.execute_reply": "2024-10-21T09:33:44.616610Z"
    },
    "papermill": {
     "duration": 0.354849,
     "end_time": "2024-10-21T09:33:44.620273",
     "exception": false,
     "start_time": "2024-10-21T09:33:44.265424",
     "status": "completed"
    },
    "tags": []
   },
   "outputs": [
    {
     "data": {
      "image/png": "[encoded data removed]",
      "text/plain": [
       "<Figure size 640x480 with 1 Axes>"
      ]
     },
     "metadata": {},
     "output_type": "display_data"
    }
   ],
   "source": [
    "import matplotlib.pyplot as plt\n",
    "\n",
    "sentiment_counts = train_df['Sentiment'].value_counts()\n",
    "sentiment_counts.plot(kind='bar')\n",
    "plt.title('Sentiment Distribution')\n",
    "plt.xlabel('Sentiment')\n",
    "plt.ylabel('Number of Tweets')\n",
    "plt.xticks(rotation=45)\n",
    "plt.show()\n"
   ]
  },
  {
   "cell_type": "markdown",
   "id": "d8bed4b2",
   "metadata": {
    "papermill": {
     "duration": 0.009396,
     "end_time": "2024-10-21T09:33:44.639428",
     "exception": false,
     "start_time": "2024-10-21T09:33:44.630032",
     "status": "completed"
    },
    "tags": []
   },
   "source": [
    "Class imbalance occurs when the distribution of classes in a dataset is not uniform, which can lead to biased predictions. In your case, the counts of sentiments indicate an imbalance, particularly with the \"Irrelevant\" class being less frequent."
   ]
  },
  {
   "cell_type": "code",
   "execution_count": 8,
   "id": "38d448b7",
   "metadata": {
    "execution": {
     "iopub.execute_input": "2024-10-21T09:33:44.660671Z",
     "iopub.status.busy": "2024-10-21T09:33:44.660233Z",
     "iopub.status.idle": "2024-10-21T09:33:44.730036Z",
     "shell.execute_reply": "2024-10-21T09:33:44.728779Z"
    },
    "papermill": {
     "duration": 0.083887,
     "end_time": "2024-10-21T09:33:44.733110",
     "exception": false,
     "start_time": "2024-10-21T09:33:44.649223",
     "status": "completed"
    },
    "tags": []
   },
   "outputs": [],
   "source": [
    "#Data Cleaning Steps\n",
    "train_df['cleaned_text'] = train_df['Text'].str.lower()"
   ]
  },
  {
   "cell_type": "code",
   "execution_count": 9,
   "id": "2da707e6",
   "metadata": {
    "execution": {
     "iopub.execute_input": "2024-10-21T09:33:44.755842Z",
     "iopub.status.busy": "2024-10-21T09:33:44.754503Z",
     "iopub.status.idle": "2024-10-21T09:33:45.022310Z",
     "shell.execute_reply": "2024-10-21T09:33:45.021111Z"
    },
    "papermill": {
     "duration": 0.281918,
     "end_time": "2024-10-21T09:33:45.025122",
     "exception": false,
     "start_time": "2024-10-21T09:33:44.743204",
     "status": "completed"
    },
    "tags": []
   },
   "outputs": [],
   "source": [
    "import re\n",
    "\n",
    "def remove_mentions_hashtags(text):\n",
    "    text = re.sub(r'@\\w+', '', text)  # Remove mentions\n",
    "    text = re.sub(r'#\\w+', '', text)  # Remove hashtags\n",
    "    return text\n",
    "\n",
    "train_df['cleaned_text'] = train_df['cleaned_text'].apply(remove_mentions_hashtags)\n"
   ]
  },
  {
   "cell_type": "code",
   "execution_count": 10,
   "id": "ab556fd4",
   "metadata": {
    "execution": {
     "iopub.execute_input": "2024-10-21T09:33:45.046520Z",
     "iopub.status.busy": "2024-10-21T09:33:45.046056Z",
     "iopub.status.idle": "2024-10-21T09:33:45.398372Z",
     "shell.execute_reply": "2024-10-21T09:33:45.397086Z"
    },
    "papermill": {
     "duration": 0.366222,
     "end_time": "2024-10-21T09:33:45.401242",
     "exception": false,
     "start_time": "2024-10-21T09:33:45.035020",
     "status": "completed"
    },
    "tags": []
   },
   "outputs": [],
   "source": [
    "def remove_urls(text):\n",
    "    text = re.sub(r'http\\S+|www\\S+|https\\S+', '', text)  # Remove URLs\n",
    "    return text\n",
    "\n",
    "train_df['cleaned_text'] = train_df['cleaned_text'].apply(remove_urls)\n"
   ]
  },
  {
   "cell_type": "code",
   "execution_count": 11,
   "id": "effd8b0d",
   "metadata": {
    "execution": {
     "iopub.execute_input": "2024-10-21T09:33:45.422857Z",
     "iopub.status.busy": "2024-10-21T09:33:45.422383Z",
     "iopub.status.idle": "2024-10-21T09:33:46.005772Z",
     "shell.execute_reply": "2024-10-21T09:33:46.004735Z"
    },
    "papermill": {
     "duration": 0.597416,
     "end_time": "2024-10-21T09:33:46.008583",
     "exception": false,
     "start_time": "2024-10-21T09:33:45.411167",
     "status": "completed"
    },
    "tags": []
   },
   "outputs": [],
   "source": [
    "def remove_punctuation(text):\n",
    "    text = re.sub(r'[^\\w\\s]', '', text)  # Remove punctuation\n",
    "    return text\n",
    "\n",
    "train_df['cleaned_text'] = train_df['cleaned_text'].apply(remove_punctuation)\n"
   ]
  },
  {
   "cell_type": "code",
   "execution_count": 12,
   "id": "35a82fd2",
   "metadata": {
    "execution": {
     "iopub.execute_input": "2024-10-21T09:33:46.030896Z",
     "iopub.status.busy": "2024-10-21T09:33:46.030441Z",
     "iopub.status.idle": "2024-10-21T09:33:46.466041Z",
     "shell.execute_reply": "2024-10-21T09:33:46.464951Z"
    },
    "papermill": {
     "duration": 0.450008,
     "end_time": "2024-10-21T09:33:46.468967",
     "exception": false,
     "start_time": "2024-10-21T09:33:46.018959",
     "status": "completed"
    },
    "tags": []
   },
   "outputs": [],
   "source": [
    "def remove_numbers(text):\n",
    "    text = re.sub(r'\\d+', '', text)  # Remove numbers\n",
    "    return text\n",
    "\n",
    "train_df['cleaned_text'] = train_df['cleaned_text'].apply(remove_numbers)\n"
   ]
  },
  {
   "cell_type": "code",
   "execution_count": 13,
   "id": "60cf468d",
   "metadata": {
    "execution": {
     "iopub.execute_input": "2024-10-21T09:33:46.490401Z",
     "iopub.status.busy": "2024-10-21T09:33:46.489907Z",
     "iopub.status.idle": "2024-10-21T09:33:46.506559Z",
     "shell.execute_reply": "2024-10-21T09:33:46.505243Z"
    },
    "papermill": {
     "duration": 0.030817,
     "end_time": "2024-10-21T09:33:46.509398",
     "exception": false,
     "start_time": "2024-10-21T09:33:46.478581",
     "status": "completed"
    },
    "tags": []
   },
   "outputs": [
    {
     "name": "stdout",
     "output_type": "stream",
     "text": [
      "                                                Text  \\\n",
      "0  I am coming to the borders and I will kill you...   \n",
      "1  im getting on borderlands and i will kill you ...   \n",
      "2  im coming on borderlands and i will murder you...   \n",
      "3  im getting on borderlands 2 and i will murder ...   \n",
      "4  im getting into borderlands and i can murder y...   \n",
      "\n",
      "                                        cleaned_text  \n",
      "0  i am coming to the borders and i will kill you...  \n",
      "1  im getting on borderlands and i will kill you all  \n",
      "2  im coming on borderlands and i will murder you...  \n",
      "3  im getting on borderlands  and i will murder y...  \n",
      "4  im getting into borderlands and i can murder y...  \n"
     ]
    }
   ],
   "source": [
    "print(train_df[['Text', 'cleaned_text']].head())\n"
   ]
  },
  {
   "cell_type": "markdown",
   "id": "efe53aa2",
   "metadata": {
    "papermill": {
     "duration": 0.009481,
     "end_time": "2024-10-21T09:33:46.529285",
     "exception": false,
     "start_time": "2024-10-21T09:33:46.519804",
     "status": "completed"
    },
    "tags": []
   },
   "source": [
    " Train-Test Split"
   ]
  },
  {
   "cell_type": "code",
   "execution_count": 14,
   "id": "aa5a9a11",
   "metadata": {
    "execution": {
     "iopub.execute_input": "2024-10-21T09:33:46.551602Z",
     "iopub.status.busy": "2024-10-21T09:33:46.550486Z",
     "iopub.status.idle": "2024-10-21T09:33:46.570846Z",
     "shell.execute_reply": "2024-10-21T09:33:46.569881Z"
    },
    "papermill": {
     "duration": 0.034413,
     "end_time": "2024-10-21T09:33:46.573645",
     "exception": false,
     "start_time": "2024-10-21T09:33:46.539232",
     "status": "completed"
    },
    "tags": []
   },
   "outputs": [],
   "source": [
    "from sklearn.model_selection import train_test_split\n",
    "\n",
    "# Define your features (X) and labels (y)\n",
    "X = train_df['cleaned_text']\n",
    "y = train_df['Sentiment']\n",
    "\n",
    "# Split the data\n",
    "X_train, X_val, y_train, y_val = train_test_split(X, y, test_size=0.2, random_state=42)\n"
   ]
  },
  {
   "cell_type": "markdown",
   "id": "accd2341",
   "metadata": {
    "papermill": {
     "duration": 0.009497,
     "end_time": "2024-10-21T09:33:46.593291",
     "exception": false,
     "start_time": "2024-10-21T09:33:46.583794",
     "status": "completed"
    },
    "tags": []
   },
   "source": [
    "Feature Extraction\n",
    "Convert your text data into numerical format so that the machine learning model can understand it. You can use techniques like Count Vectorization or TF-IDF."
   ]
  },
  {
   "cell_type": "code",
   "execution_count": 15,
   "id": "97302525",
   "metadata": {
    "execution": {
     "iopub.execute_input": "2024-10-21T09:33:46.614947Z",
     "iopub.status.busy": "2024-10-21T09:33:46.614133Z",
     "iopub.status.idle": "2024-10-21T09:33:48.826316Z",
     "shell.execute_reply": "2024-10-21T09:33:48.825326Z"
    },
    "papermill": {
     "duration": 2.226092,
     "end_time": "2024-10-21T09:33:48.829092",
     "exception": false,
     "start_time": "2024-10-21T09:33:46.603000",
     "status": "completed"
    },
    "tags": []
   },
   "outputs": [],
   "source": [
    "from sklearn.feature_extraction.text import TfidfVectorizer\n",
    "\n",
    "# Initialize the vectorizer\n",
    "vectorizer = TfidfVectorizer()\n",
    "\n",
    "# Fit and transform the training data\n",
    "X_train_vectorized = vectorizer.fit_transform(X_train)\n",
    "\n",
    "# Transform the validation data\n",
    "X_val_vectorized = vectorizer.transform(X_val)\n",
    "pipeline = make_pipeline(StandardScaler(with_mean=False), \n",
    "                         LogisticRegression(solver='liblinear', max_iter=200))\n",
    "\n"
   ]
  },
  {
   "cell_type": "code",
   "execution_count": 16,
   "id": "eda7858a",
   "metadata": {
    "execution": {
     "iopub.execute_input": "2024-10-21T09:33:48.850402Z",
     "iopub.status.busy": "2024-10-21T09:33:48.849976Z",
     "iopub.status.idle": "2024-10-21T09:34:49.510834Z",
     "shell.execute_reply": "2024-10-21T09:34:49.509744Z"
    },
    "papermill": {
     "duration": 60.678482,
     "end_time": "2024-10-21T09:34:49.517452",
     "exception": false,
     "start_time": "2024-10-21T09:33:48.838970",
     "status": "completed"
    },
    "tags": []
   },
   "outputs": [
    {
     "data": {
      "text/html": [
       "<style>#sk-container-id-1 {color: black;background-color: white;}#sk-container-id-1 pre{padding: 0;}#sk-container-id-1 div.sk-toggleable {background-color: white;}#sk-container-id-1 label.sk-toggleable__label {cursor: pointer;display: block;width: 100%;margin-bottom: 0;padding: 0.3em;box-sizing: border-box;text-align: center;}#sk-container-id-1 label.sk-toggleable__label-arrow:before {content: \"▸\";float: left;margin-right: 0.25em;color: #696969;}#sk-container-id-1 label.sk-toggleable__label-arrow:hover:before {color: black;}#sk-container-id-1 div.sk-estimator:hover label.sk-toggleable__label-arrow:before {color: black;}#sk-container-id-1 div.sk-toggleable__content {max-height: 0;max-width: 0;overflow: hidden;text-align: left;background-color: #f0f8ff;}#sk-container-id-1 div.sk-toggleable__content pre {margin: 0.2em;color: black;border-radius: 0.25em;background-color: #f0f8ff;}#sk-container-id-1 input.sk-toggleable__control:checked~div.sk-toggleable__content {max-height: 200px;max-width: 100%;overflow: auto;}#sk-container-id-1 input.sk-toggleable__control:checked~label.sk-toggleable__label-arrow:before {content: \"▾\";}#sk-container-id-1 div.sk-estimator input.sk-toggleable__control:checked~label.sk-toggleable__label {background-color: #d4ebff;}#sk-container-id-1 div.sk-label input.sk-toggleable__control:checked~label.sk-toggleable__label {background-color: #d4ebff;}#sk-container-id-1 input.sk-hidden--visually {border: 0;clip: rect(1px 1px 1px 1px);clip: rect(1px, 1px, 1px, 1px);height: 1px;margin: -1px;overflow: hidden;padding: 0;position: absolute;width: 1px;}#sk-container-id-1 div.sk-estimator {font-family: monospace;background-color: #f0f8ff;border: 1px dotted black;border-radius: 0.25em;box-sizing: border-box;margin-bottom: 0.5em;}#sk-container-id-1 div.sk-estimator:hover {background-color: #d4ebff;}#sk-container-id-1 div.sk-parallel-item::after {content: \"\";width: 100%;border-bottom: 1px solid gray;flex-grow: 1;}#sk-container-id-1 div.sk-label:hover label.sk-toggleable__label {background-color: #d4ebff;}#sk-container-id-1 div.sk-serial::before {content: \"\";position: absolute;border-left: 1px solid gray;box-sizing: border-box;top: 0;bottom: 0;left: 50%;z-index: 0;}#sk-container-id-1 div.sk-serial {display: flex;flex-direction: column;align-items: center;background-color: white;padding-right: 0.2em;padding-left: 0.2em;position: relative;}#sk-container-id-1 div.sk-item {position: relative;z-index: 1;}#sk-container-id-1 div.sk-parallel {display: flex;align-items: stretch;justify-content: center;background-color: white;position: relative;}#sk-container-id-1 div.sk-item::before, #sk-container-id-1 div.sk-parallel-item::before {content: \"\";position: absolute;border-left: 1px solid gray;box-sizing: border-box;top: 0;bottom: 0;left: 50%;z-index: -1;}#sk-container-id-1 div.sk-parallel-item {display: flex;flex-direction: column;z-index: 1;position: relative;background-color: white;}#sk-container-id-1 div.sk-parallel-item:first-child::after {align-self: flex-end;width: 50%;}#sk-container-id-1 div.sk-parallel-item:last-child::after {align-self: flex-start;width: 50%;}#sk-container-id-1 div.sk-parallel-item:only-child::after {width: 0;}#sk-container-id-1 div.sk-dashed-wrapped {border: 1px dashed gray;margin: 0 0.4em 0.5em 0.4em;box-sizing: border-box;padding-bottom: 0.4em;background-color: white;}#sk-container-id-1 div.sk-label label {font-family: monospace;font-weight: bold;display: inline-block;line-height: 1.2em;}#sk-container-id-1 div.sk-label-container {text-align: center;}#sk-container-id-1 div.sk-container {/* jupyter's `normalize.less` sets `[hidden] { display: none; }` but bootstrap.min.css set `[hidden] { display: none !important; }` so we also need the `!important` here to be able to override the default hidden behavior on the sphinx rendered scikit-learn.org. See: https://github.com/scikit-learn/scikit-learn/issues/21755 */display: inline-block !important;position: relative;}#sk-container-id-1 div.sk-text-repr-fallback {display: none;}</style><div id=\"sk-container-id-1\" class=\"sk-top-container\"><div class=\"sk-text-repr-fallback\"><pre>Pipeline(steps=[(&#x27;standardscaler&#x27;, StandardScaler(with_mean=False)),\n",
       "                (&#x27;logisticregression&#x27;,\n",
       "                 LogisticRegression(max_iter=200, solver=&#x27;liblinear&#x27;))])</pre><b>In a Jupyter environment, please rerun this cell to show the HTML representation or trust the notebook. <br />On GitHub, the HTML representation is unable to render, please try loading this page with nbviewer.org.</b></div><div class=\"sk-container\" hidden><div class=\"sk-item sk-dashed-wrapped\"><div class=\"sk-label-container\"><div class=\"sk-label sk-toggleable\"><input class=\"sk-toggleable__control sk-hidden--visually\" id=\"sk-estimator-id-1\" type=\"checkbox\" ><label for=\"sk-estimator-id-1\" class=\"sk-toggleable__label sk-toggleable__label-arrow\">Pipeline</label><div class=\"sk-toggleable__content\"><pre>Pipeline(steps=[(&#x27;standardscaler&#x27;, StandardScaler(with_mean=False)),\n",
       "                (&#x27;logisticregression&#x27;,\n",
       "                 LogisticRegression(max_iter=200, solver=&#x27;liblinear&#x27;))])</pre></div></div></div><div class=\"sk-serial\"><div class=\"sk-item\"><div class=\"sk-estimator sk-toggleable\"><input class=\"sk-toggleable__control sk-hidden--visually\" id=\"sk-estimator-id-2\" type=\"checkbox\" ><label for=\"sk-estimator-id-2\" class=\"sk-toggleable__label sk-toggleable__label-arrow\">StandardScaler</label><div class=\"sk-toggleable__content\"><pre>StandardScaler(with_mean=False)</pre></div></div></div><div class=\"sk-item\"><div class=\"sk-estimator sk-toggleable\"><input class=\"sk-toggleable__control sk-hidden--visually\" id=\"sk-estimator-id-3\" type=\"checkbox\" ><label for=\"sk-estimator-id-3\" class=\"sk-toggleable__label sk-toggleable__label-arrow\">LogisticRegression</label><div class=\"sk-toggleable__content\"><pre>LogisticRegression(max_iter=200, solver=&#x27;liblinear&#x27;)</pre></div></div></div></div></div></div></div>"
      ],
      "text/plain": [
       "Pipeline(steps=[('standardscaler', StandardScaler(with_mean=False)),\n",
       "                ('logisticregression',\n",
       "                 LogisticRegression(max_iter=200, solver='liblinear'))])"
      ]
     },
     "execution_count": 16,
     "metadata": {},
     "output_type": "execute_result"
    }
   ],
   "source": [
    "pipeline.fit(X_train_vectorized, y_train)\n"
   ]
  },
  {
   "cell_type": "code",
   "execution_count": 17,
   "id": "290115c3",
   "metadata": {
    "execution": {
     "iopub.execute_input": "2024-10-21T09:34:49.546324Z",
     "iopub.status.busy": "2024-10-21T09:34:49.545834Z",
     "iopub.status.idle": "2024-10-21T09:34:53.325894Z",
     "shell.execute_reply": "2024-10-21T09:34:53.324758Z"
    },
    "papermill": {
     "duration": 3.79825,
     "end_time": "2024-10-21T09:34:53.329140",
     "exception": false,
     "start_time": "2024-10-21T09:34:49.530890",
     "status": "completed"
    },
    "tags": []
   },
   "outputs": [
    {
     "data": {
      "text/html": [
       "<style>#sk-container-id-2 {color: black;background-color: white;}#sk-container-id-2 pre{padding: 0;}#sk-container-id-2 div.sk-toggleable {background-color: white;}#sk-container-id-2 label.sk-toggleable__label {cursor: pointer;display: block;width: 100%;margin-bottom: 0;padding: 0.3em;box-sizing: border-box;text-align: center;}#sk-container-id-2 label.sk-toggleable__label-arrow:before {content: \"▸\";float: left;margin-right: 0.25em;color: #696969;}#sk-container-id-2 label.sk-toggleable__label-arrow:hover:before {color: black;}#sk-container-id-2 div.sk-estimator:hover label.sk-toggleable__label-arrow:before {color: black;}#sk-container-id-2 div.sk-toggleable__content {max-height: 0;max-width: 0;overflow: hidden;text-align: left;background-color: #f0f8ff;}#sk-container-id-2 div.sk-toggleable__content pre {margin: 0.2em;color: black;border-radius: 0.25em;background-color: #f0f8ff;}#sk-container-id-2 input.sk-toggleable__control:checked~div.sk-toggleable__content {max-height: 200px;max-width: 100%;overflow: auto;}#sk-container-id-2 input.sk-toggleable__control:checked~label.sk-toggleable__label-arrow:before {content: \"▾\";}#sk-container-id-2 div.sk-estimator input.sk-toggleable__control:checked~label.sk-toggleable__label {background-color: #d4ebff;}#sk-container-id-2 div.sk-label input.sk-toggleable__control:checked~label.sk-toggleable__label {background-color: #d4ebff;}#sk-container-id-2 input.sk-hidden--visually {border: 0;clip: rect(1px 1px 1px 1px);clip: rect(1px, 1px, 1px, 1px);height: 1px;margin: -1px;overflow: hidden;padding: 0;position: absolute;width: 1px;}#sk-container-id-2 div.sk-estimator {font-family: monospace;background-color: #f0f8ff;border: 1px dotted black;border-radius: 0.25em;box-sizing: border-box;margin-bottom: 0.5em;}#sk-container-id-2 div.sk-estimator:hover {background-color: #d4ebff;}#sk-container-id-2 div.sk-parallel-item::after {content: \"\";width: 100%;border-bottom: 1px solid gray;flex-grow: 1;}#sk-container-id-2 div.sk-label:hover label.sk-toggleable__label {background-color: #d4ebff;}#sk-container-id-2 div.sk-serial::before {content: \"\";position: absolute;border-left: 1px solid gray;box-sizing: border-box;top: 0;bottom: 0;left: 50%;z-index: 0;}#sk-container-id-2 div.sk-serial {display: flex;flex-direction: column;align-items: center;background-color: white;padding-right: 0.2em;padding-left: 0.2em;position: relative;}#sk-container-id-2 div.sk-item {position: relative;z-index: 1;}#sk-container-id-2 div.sk-parallel {display: flex;align-items: stretch;justify-content: center;background-color: white;position: relative;}#sk-container-id-2 div.sk-item::before, #sk-container-id-2 div.sk-parallel-item::before {content: \"\";position: absolute;border-left: 1px solid gray;box-sizing: border-box;top: 0;bottom: 0;left: 50%;z-index: -1;}#sk-container-id-2 div.sk-parallel-item {display: flex;flex-direction: column;z-index: 1;position: relative;background-color: white;}#sk-container-id-2 div.sk-parallel-item:first-child::after {align-self: flex-end;width: 50%;}#sk-container-id-2 div.sk-parallel-item:last-child::after {align-self: flex-start;width: 50%;}#sk-container-id-2 div.sk-parallel-item:only-child::after {width: 0;}#sk-container-id-2 div.sk-dashed-wrapped {border: 1px dashed gray;margin: 0 0.4em 0.5em 0.4em;box-sizing: border-box;padding-bottom: 0.4em;background-color: white;}#sk-container-id-2 div.sk-label label {font-family: monospace;font-weight: bold;display: inline-block;line-height: 1.2em;}#sk-container-id-2 div.sk-label-container {text-align: center;}#sk-container-id-2 div.sk-container {/* jupyter's `normalize.less` sets `[hidden] { display: none; }` but bootstrap.min.css set `[hidden] { display: none !important; }` so we also need the `!important` here to be able to override the default hidden behavior on the sphinx rendered scikit-learn.org. See: https://github.com/scikit-learn/scikit-learn/issues/21755 */display: inline-block !important;position: relative;}#sk-container-id-2 div.sk-text-repr-fallback {display: none;}</style><div id=\"sk-container-id-2\" class=\"sk-top-container\"><div class=\"sk-text-repr-fallback\"><pre>LogisticRegression(max_iter=200, solver=&#x27;liblinear&#x27;)</pre><b>In a Jupyter environment, please rerun this cell to show the HTML representation or trust the notebook. <br />On GitHub, the HTML representation is unable to render, please try loading this page with nbviewer.org.</b></div><div class=\"sk-container\" hidden><div class=\"sk-item\"><div class=\"sk-estimator sk-toggleable\"><input class=\"sk-toggleable__control sk-hidden--visually\" id=\"sk-estimator-id-4\" type=\"checkbox\" checked><label for=\"sk-estimator-id-4\" class=\"sk-toggleable__label sk-toggleable__label-arrow\">LogisticRegression</label><div class=\"sk-toggleable__content\"><pre>LogisticRegression(max_iter=200, solver=&#x27;liblinear&#x27;)</pre></div></div></div></div></div>"
      ],
      "text/plain": [
       "LogisticRegression(max_iter=200, solver='liblinear')"
      ]
     },
     "execution_count": 17,
     "metadata": {},
     "output_type": "execute_result"
    }
   ],
   "source": [
    "from sklearn.linear_model import LogisticRegression\n",
    "\n",
    "model = LogisticRegression(solver='liblinear', max_iter=200)\n",
    "model.fit(X_train_vectorized, y_train)\n"
   ]
  },
  {
   "cell_type": "markdown",
   "id": "33637315",
   "metadata": {
    "papermill": {
     "duration": 0.013241,
     "end_time": "2024-10-21T09:34:53.356796",
     "exception": false,
     "start_time": "2024-10-21T09:34:53.343555",
     "status": "completed"
    },
    "tags": []
   },
   "source": []
  },
  {
   "cell_type": "code",
   "execution_count": 18,
   "id": "d6d1bca1",
   "metadata": {
    "execution": {
     "iopub.execute_input": "2024-10-21T09:34:53.386274Z",
     "iopub.status.busy": "2024-10-21T09:34:53.385614Z",
     "iopub.status.idle": "2024-10-21T09:34:54.238271Z",
     "shell.execute_reply": "2024-10-21T09:34:54.237018Z"
    },
    "papermill": {
     "duration": 0.870787,
     "end_time": "2024-10-21T09:34:54.241234",
     "exception": false,
     "start_time": "2024-10-21T09:34:53.370447",
     "status": "completed"
    },
    "tags": []
   },
   "outputs": [
    {
     "name": "stdout",
     "output_type": "stream",
     "text": [
      "              precision    recall  f1-score   support\n",
      "\n",
      "  Irrelevant       0.81      0.77      0.79      2624\n",
      "    Negative       0.84      0.83      0.84      4463\n",
      "     Neutral       0.79      0.79      0.79      3589\n",
      "    Positive       0.80      0.83      0.82      4123\n",
      "\n",
      "    accuracy                           0.81     14799\n",
      "   macro avg       0.81      0.81      0.81     14799\n",
      "weighted avg       0.81      0.81      0.81     14799\n",
      "\n"
     ]
    }
   ],
   "source": [
    "y_pred = pipeline.predict(X_val_vectorized)\n",
    "print(classification_report(y_val, y_pred))"
   ]
  },
  {
   "cell_type": "markdown",
   "id": "a9d29769",
   "metadata": {
    "papermill": {
     "duration": 0.010164,
     "end_time": "2024-10-21T09:34:54.261909",
     "exception": false,
     "start_time": "2024-10-21T09:34:54.251745",
     "status": "completed"
    },
    "tags": []
   },
   "source": [
    "Summary of Steps\n",
    "Import Libraries: Bring in all the necessary tools.\n",
    "Prepare Data: Split your dataset into training and validation sets.\n",
    "Feature Extraction: Convert text to numerical format using TF-IDF.\n",
    "Define Pipeline: Create a pipeline that includes scaling and logistic regression.\n",
    "Fit Model: Train the model on the training data.\n",
    "Evaluate: Make predictions and print the classification report to see how well the model performs."
   ]
  },
  {
   "cell_type": "markdown",
   "id": "5b35336e",
   "metadata": {
    "papermill": {
     "duration": 0.010511,
     "end_time": "2024-10-21T09:34:54.282908",
     "exception": false,
     "start_time": "2024-10-21T09:34:54.272397",
     "status": "completed"
    },
    "tags": []
   },
   "source": [
    "Project Summary: Sentiment Analysis on Twitter Data\n",
    "Objective:\n",
    "\n",
    "The goal was to perform sentiment analysis on a Twitter dataset, classifying tweets into categories such as Positive, Negative, Neutral, and Irrelevant.\n",
    "Data Preparation:\n",
    "\n",
    "Dataset: You started with a dataset containing tweets, which included text and sentiment labels.\n",
    "Initial Exploration: You explored the dataset to understand its structure, including the number of entries and types of sentiments present.\n",
    "Data Cleaning:\n",
    "\n",
    "Cleaned the text data by removing unwanted characters, stop words, and applying techniques like lowercasing and lemmatization to make the text suitable for analysis.\n",
    "Sentiment Distribution:\n",
    "\n",
    "You analyzed the distribution of sentiments in the dataset, noting counts for each class, which is crucial for understanding class balance.\n",
    "Feature Extraction:\n",
    "\n",
    "Used TF-IDF Vectorization to convert the cleaned text data into numerical format, which allows the model to process the text effectively.\n",
    "Train-Test Split:\n",
    "\n",
    "Split the dataset into training and validation sets to evaluate the model's performance accurately.\n",
    "python\n",
    "Copy code\n",
    "from sklearn.model_selection import train_test_split\n",
    "X = train_df['cleaned_text']\n",
    "y = train_df['Sentiment']\n",
    "X_train, X_val, y_train, y_val = train_test_split(X, y, test_size=0.2, random_state=42)\n",
    "Model Selection:\n",
    "\n",
    "Chose Logistic Regression as the machine learning model for sentiment classification.\n",
    "Handling Convergence Warning:\n",
    "\n",
    "Initially faced a convergence warning, which was resolved by:\n",
    "Increasing the number of iterations (max_iter).\n",
    "Switching the solver to liblinear.\n",
    "Implementing feature scaling using StandardScaler.\n",
    "python\n",
    "Copy code\n",
    "from sklearn.pipeline import make_pipeline\n",
    "from sklearn.preprocessing import StandardScaler\n",
    "from sklearn.linear_model import LogisticRegression\n",
    "\n",
    "pipeline = make_pipeline(\n",
    "    StandardScaler(with_mean=False),\n",
    "    LogisticRegression(max_iter=200, solver='liblinear')\n",
    ")\n",
    "Model Training:\n",
    "\n",
    "Trained the model on the training data using the defined pipeline.\n",
    "python\n",
    "Copy code\n",
    "pipeline.fit(X_train_vectorized, y_train)\n",
    "Model Evaluation:\n",
    "\n",
    "Made predictions on the validation set and evaluated the model using a classification report, which included:\n",
    "Precision: Indicates the accuracy of the positive predictions.\n",
    "Recall: Measures the model's ability to capture actual positive instances.\n",
    "F1-Score: Balances precision and recall.\n",
    "Support: Actual number of instances in each class.\n",
    "The classification report showed good performance, with overall accuracy around 81%.\n",
    "\n",
    "Key Findings from the Classification Report:\n",
    "\n",
    "Precision, recall, and F1-scores for various classes (Irrelevant, Negative, Neutral, Positive) were satisfactory, indicating effective sentiment classification.\n",
    "Conclusion\n",
    "Your sentiment analysis project involved data preparation, cleaning, feature extraction, model training, and evaluation. The model performed well, achieving an accuracy of 81%, with promising metrics across different sentiment categories. If you wish to enhance the model, consider exploring hyperparameter tuning or trying out different algorithms."
   ]
  },
  {
   "cell_type": "markdown",
   "id": "9990cb20",
   "metadata": {
    "papermill": {
     "duration": 0.010185,
     "end_time": "2024-10-21T09:34:54.304078",
     "exception": false,
     "start_time": "2024-10-21T09:34:54.293893",
     "status": "completed"
    },
    "tags": []
   },
   "source": [
    "Project Summary: Sentiment Analysis of Twitter Data\n",
    "Objective:\n",
    "The goal of this project was to develop a machine learning model to classify Twitter tweets into four sentiment categories: Positive, Negative, Neutral, and Irrelevant. This analysis aims to provide insights into public sentiment regarding various topics discussed on Twitter.\n",
    "\n",
    "Approach:\n",
    "\n",
    "Data Collection: Utilized a dataset containing tweets labeled with their corresponding sentiments. The dataset was pre-processed to ensure data quality.\n",
    "\n",
    "Data Cleaning: Cleaned the text data by removing special characters, stop words, and performing lowercasing and lemmatization. This step ensured that the model focuses on meaningful words.\n",
    "\n",
    "Feature Extraction: Employed TF-IDF Vectorization to convert the cleaned text into numerical features, enabling the machine learning model to process the data effectively.\n",
    "\n",
    "Model Selection: Chose Logistic Regression for classification due to its effectiveness and simplicity in handling text data.\n",
    "\n",
    "Model Training: Split the dataset into training and validation sets. The model was trained on the training set using a pipeline that included scaling and logistic regression.\n",
    "\n",
    "Evaluation: Assessed the model's performance using metrics such as precision, recall, and F1-score. The model achieved an overall accuracy of 81%, indicating strong performance in sentiment classification.\n",
    "\n",
    "Key Findings:\n",
    "The model effectively captured the sentiments expressed in tweets, with notable performance across all categories. Insights from the analysis can be valuable for businesses and researchers looking to understand public opinion on various issues.\n",
    "\n",
    "Technologies Used:\n",
    "\n",
    "Python\n",
    "Pandas\n",
    "Scikit-learn\n",
    "TF-IDF Vectorizer\n",
    "Logistic Regression"
   ]
  }
 ],
 "metadata": {
  "kaggle": {
   "accelerator": "none",
   "dataSources": [
    {
     "datasetId": 1520310,
     "sourceId": 2510329,
     "sourceType": "datasetVersion"
    }
   ],
   "isGpuEnabled": false,
   "isInternetEnabled": true,
   "language": "python",
   "sourceType": "notebook"
  },
  "kernelspec": {
   "display_name": "Python 3",
   "language": "python",
   "name": "python3"
  },
  "language_info": {
   "codemirror_mode": {
    "name": "ipython",
    "version": 3
   },
   "file_extension": ".py",
   "mimetype": "text/x-python",
   "name": "python",
   "nbconvert_exporter": "python",
   "pygments_lexer": "ipython3",
   "version": "3.10.14"
  },
  "papermill": {
   "default_parameters": {},
   "duration": 77.745356,
   "end_time": "2024-10-21T09:34:55.037476",
   "environment_variables": {},
   "exception": null,
   "input_path": "__notebook__.ipynb",
   "output_path": "__notebook__.ipynb",
   "parameters": {},
   "start_time": "2024-10-21T09:33:37.292120",
   "version": "2.6.0"
  }
 },
 "nbformat": 4,
 "nbformat_minor": 5
}
